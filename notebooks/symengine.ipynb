{
 "cells": [
  {
   "cell_type": "markdown",
   "metadata": {},
   "source": [
    "## Installation\n",
    "\n",
    "Install `xeus-cling`:\n",
    "\n",
    "    conda install -c conda-forge xeus-cling"
   ]
  },
  {
   "cell_type": "code",
   "execution_count": 1,
   "metadata": {},
   "outputs": [],
   "source": [
    "#include <symengine/expression.h>\n",
    "using SymEngine::Expression;"
   ]
  },
  {
   "cell_type": "code",
   "execution_count": 2,
   "metadata": {},
   "outputs": [],
   "source": [
    "Expression x(\"x\");"
   ]
  },
  {
   "cell_type": "code",
   "execution_count": 3,
   "metadata": {},
   "outputs": [
    {
     "data": {
      "text/latex": [
       "$\\left(x + \\sqrt{2}\\right)^{10}$"
      ],
      "text/plain": [
       "(x + sqrt(2))**10"
      ]
     },
     "execution_count": 3,
     "metadata": {},
     "output_type": "execute_result"
    }
   ],
   "source": [
    "auto ex = pow(x+sqrt(Expression(2)), 10);\n",
    "ex"
   ]
  },
  {
   "cell_type": "code",
   "execution_count": 4,
   "metadata": {},
   "outputs": [
    {
     "data": {
      "text/latex": [
       "$32 + 160 \\sqrt{2} x + 960 \\sqrt{2} x^3 + 1008 \\sqrt{2} x^5 + 240 \\sqrt{2} x^7 + 10 \\sqrt{2} x^9 + 720 x^2 + 1680 x^4 + 840 x^6 + 90 x^8 + x^{10}$"
      ],
      "text/plain": [
       "32 + 160*sqrt(2)*x + 960*sqrt(2)*x**3 + 1008*sqrt(2)*x**5 + 240*sqrt(2)*x**7 + 10*sqrt(2)*x**9 + 720*x**2 + 1680*x**4 + 840*x**6 + 90*x**8 + x**10"
      ]
     },
     "execution_count": 4,
     "metadata": {},
     "output_type": "execute_result"
    }
   ],
   "source": [
    "expand(pow(x+sqrt(Expression(2)), 10))"
   ]
  },
  {
   "cell_type": "code",
   "execution_count": 6,
   "metadata": {},
   "outputs": [
    {
     "data": {
      "text/plain": [
       "\"2 + 3 x^{10}\""
      ]
     },
     "execution_count": 6,
     "metadata": {},
     "output_type": "execute_result"
    }
   ],
   "source": [
    "latex(2 + 3 * pow(x, 10))"
   ]
  },
  {
   "cell_type": "code",
   "execution_count": null,
   "metadata": {},
   "outputs": [],
   "source": []
  }
 ],
 "metadata": {
  "kernelspec": {
   "display_name": "C++17",
   "language": "C++17",
   "name": "xeus-cling-cpp17"
  },
  "language_info": {
   "codemirror_mode": "text/x-c++src",
   "file_extension": ".cpp",
   "mimetype": "text/x-c++src",
   "name": "c++",
   "version": "-std=c++17"
  }
 },
 "nbformat": 4,
 "nbformat_minor": 2
}
